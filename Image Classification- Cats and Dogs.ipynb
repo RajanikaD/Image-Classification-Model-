{
 "cells": [
  {
   "cell_type": "code",
   "execution_count": 1,
   "id": "3c71f3eb",
   "metadata": {},
   "outputs": [],
   "source": [
    "import numpy as np\n",
    "import pandas as pd\n",
    "%matplotlib inline\n",
    "import matplotlib as mpl\n",
    "import matplotlib.pyplot as plt\n",
    "import os"
   ]
  },
  {
   "cell_type": "code",
   "execution_count": 2,
   "id": "6631e2a2",
   "metadata": {},
   "outputs": [],
   "source": [
    "import tensorflow as tf\n",
    "from tensorflow import keras"
   ]
  },
  {
   "cell_type": "code",
   "execution_count": 3,
   "id": "68836783",
   "metadata": {},
   "outputs": [],
   "source": [
    "train_dir = r'C:\\Users\\rajan\\Downloads\\Documents\\Internshala Training\\cats_and_dogs\\train'\n",
    "validation_dir = r'C:\\Users\\rajan\\Downloads\\Documents\\Internshala Training\\cats_and_dogs\\validation'\n",
    "test_dir =r'C:\\Users\\rajan\\Downloads\\Documents\\Internshala Training\\cats_and_dogs\\test'"
   ]
  },
  {
   "cell_type": "code",
   "execution_count": 4,
   "id": "d5a023e1",
   "metadata": {},
   "outputs": [],
   "source": [
    "from tensorflow.keras.preprocessing.image import ImageDataGenerator"
   ]
  },
  {
   "cell_type": "code",
   "execution_count": 5,
   "id": "04d0b4e4",
   "metadata": {},
   "outputs": [
    {
     "name": "stdout",
     "output_type": "stream",
     "text": [
      "Found 2000 images belonging to 2 classes.\n",
      "Found 1000 images belonging to 2 classes.\n"
     ]
    }
   ],
   "source": [
    "train_datagen = ImageDataGenerator(rescale=1./255)\n",
    "test_datagen = ImageDataGenerator(rescale=1./255)\n",
    "\n",
    "train_generator = train_datagen.flow_from_directory(\n",
    "        train_dir,\n",
    "        target_size=(150, 150),\n",
    "        batch_size=20,\n",
    "        class_mode='binary')\n",
    "\n",
    "validation_generator = test_datagen.flow_from_directory(\n",
    "        validation_dir,\n",
    "        target_size=(150, 150),\n",
    "        batch_size=20,\n",
    "        class_mode='binary')"
   ]
  },
  {
   "cell_type": "code",
   "execution_count": 6,
   "id": "7172b757",
   "metadata": {},
   "outputs": [],
   "source": [
    "from tensorflow.keras import layers\n",
    "from tensorflow.keras import models"
   ]
  },
  {
   "cell_type": "code",
   "execution_count": 7,
   "id": "5470f8ca",
   "metadata": {},
   "outputs": [],
   "source": [
    "model = models.Sequential()\n",
    "\n",
    "model.add(layers.Conv2D(32, (3, 3), activation='relu',\n",
    "                        input_shape=(150, 150, 3)))\n",
    "model.add(layers.MaxPooling2D((2, 2)))\n",
    "\n",
    "model.add(layers.Conv2D(64, (3, 3), activation='relu'))\n",
    "model.add(layers.MaxPooling2D((2, 2)))\n",
    "\n",
    "model.add(layers.Conv2D(128, (3, 3), activation='relu'))\n",
    "model.add(layers.MaxPooling2D((2, 2)))\n",
    "\n",
    "model.add(layers.Conv2D(128, (3, 3), activation='relu'))\n",
    "model.add(layers.MaxPooling2D((2, 2)))\n",
    "\n",
    "model.add(layers.Flatten())\n",
    "\n",
    "model.add(layers.Dense(512, activation='relu'))\n",
    "\n",
    "model.add(layers.Dense(1, activation='sigmoid'))"
   ]
  },
  {
   "cell_type": "code",
   "execution_count": 8,
   "id": "ef7a5e6b",
   "metadata": {},
   "outputs": [
    {
     "name": "stdout",
     "output_type": "stream",
     "text": [
      "Model: \"sequential\"\n",
      "_________________________________________________________________\n",
      "Layer (type)                 Output Shape              Param #   \n",
      "=================================================================\n",
      "conv2d (Conv2D)              (None, 148, 148, 32)      896       \n",
      "_________________________________________________________________\n",
      "max_pooling2d (MaxPooling2D) (None, 74, 74, 32)        0         \n",
      "_________________________________________________________________\n",
      "conv2d_1 (Conv2D)            (None, 72, 72, 64)        18496     \n",
      "_________________________________________________________________\n",
      "max_pooling2d_1 (MaxPooling2 (None, 36, 36, 64)        0         \n",
      "_________________________________________________________________\n",
      "conv2d_2 (Conv2D)            (None, 34, 34, 128)       73856     \n",
      "_________________________________________________________________\n",
      "max_pooling2d_2 (MaxPooling2 (None, 17, 17, 128)       0         \n",
      "_________________________________________________________________\n",
      "conv2d_3 (Conv2D)            (None, 15, 15, 128)       147584    \n",
      "_________________________________________________________________\n",
      "max_pooling2d_3 (MaxPooling2 (None, 7, 7, 128)         0         \n",
      "_________________________________________________________________\n",
      "flatten (Flatten)            (None, 6272)              0         \n",
      "_________________________________________________________________\n",
      "dense (Dense)                (None, 512)               3211776   \n",
      "_________________________________________________________________\n",
      "dense_1 (Dense)              (None, 1)                 513       \n",
      "=================================================================\n",
      "Total params: 3,453,121\n",
      "Trainable params: 3,453,121\n",
      "Non-trainable params: 0\n",
      "_________________________________________________________________\n"
     ]
    }
   ],
   "source": [
    "model.summary()"
   ]
  },
  {
   "cell_type": "code",
   "execution_count": 9,
   "id": "e0b35631",
   "metadata": {},
   "outputs": [],
   "source": [
    "from tensorflow.keras import optimizers\n",
    "\n",
    "model.compile(loss='binary_crossentropy',\n",
    "              optimizer=optimizers.RMSprop(lr=1e-4),\n",
    "              metrics=['acc'])"
   ]
  },
  {
   "cell_type": "code",
   "execution_count": 10,
   "id": "c2daa59c",
   "metadata": {},
   "outputs": [
    {
     "name": "stdout",
     "output_type": "stream",
     "text": [
      "WARNING:tensorflow:From <ipython-input-10-84c1eb29e39c>:1: Model.fit_generator (from tensorflow.python.keras.engine.training) is deprecated and will be removed in a future version.\n",
      "Instructions for updating:\n",
      "Please use Model.fit, which supports generators.\n",
      "Epoch 1/20\n",
      "100/100 [==============================] - 84s 836ms/step - loss: 0.6974 - acc: 0.5270 - val_loss: 0.6810 - val_acc: 0.5400\n",
      "Epoch 2/20\n",
      "100/100 [==============================] - 59s 589ms/step - loss: 0.6647 - acc: 0.5950 - val_loss: 0.6476 - val_acc: 0.6190\n",
      "Epoch 3/20\n",
      "100/100 [==============================] - 59s 593ms/step - loss: 0.6268 - acc: 0.6575 - val_loss: 0.6246 - val_acc: 0.6710\n",
      "Epoch 4/20\n",
      "100/100 [==============================] - 59s 586ms/step - loss: 0.5785 - acc: 0.7005 - val_loss: 0.5951 - val_acc: 0.6730\n",
      "Epoch 5/20\n",
      "100/100 [==============================] - 58s 579ms/step - loss: 0.5368 - acc: 0.7420 - val_loss: 0.6172 - val_acc: 0.6720\n",
      "Epoch 6/20\n",
      "100/100 [==============================] - 62s 621ms/step - loss: 0.5052 - acc: 0.7510 - val_loss: 0.5623 - val_acc: 0.6970\n",
      "Epoch 7/20\n",
      "100/100 [==============================] - 59s 588ms/step - loss: 0.4739 - acc: 0.7795 - val_loss: 0.6040 - val_acc: 0.6940\n",
      "Epoch 8/20\n",
      "100/100 [==============================] - 59s 587ms/step - loss: 0.4480 - acc: 0.7885 - val_loss: 0.5517 - val_acc: 0.7070\n",
      "Epoch 9/20\n",
      "100/100 [==============================] - 63s 631ms/step - loss: 0.4258 - acc: 0.7985 - val_loss: 0.6178 - val_acc: 0.6910\n",
      "Epoch 10/20\n",
      "100/100 [==============================] - 68s 685ms/step - loss: 0.4006 - acc: 0.8245 - val_loss: 0.5254 - val_acc: 0.7320\n",
      "Epoch 11/20\n",
      "100/100 [==============================] - 59s 590ms/step - loss: 0.3674 - acc: 0.8400 - val_loss: 0.5853 - val_acc: 0.7060\n",
      "Epoch 12/20\n",
      "100/100 [==============================] - 63s 632ms/step - loss: 0.3494 - acc: 0.8465 - val_loss: 0.5403 - val_acc: 0.7400\n",
      "Epoch 13/20\n",
      "100/100 [==============================] - 63s 628ms/step - loss: 0.3172 - acc: 0.8665 - val_loss: 0.5523 - val_acc: 0.7380\n",
      "Epoch 14/20\n",
      "100/100 [==============================] - 67s 673ms/step - loss: 0.2990 - acc: 0.8770 - val_loss: 0.5798 - val_acc: 0.7340\n",
      "Epoch 15/20\n",
      "100/100 [==============================] - 70s 698ms/step - loss: 0.2736 - acc: 0.8875 - val_loss: 0.5983 - val_acc: 0.7330\n",
      "Epoch 16/20\n",
      "100/100 [==============================] - 56s 555ms/step - loss: 0.2572 - acc: 0.8970 - val_loss: 0.6113 - val_acc: 0.7390\n",
      "Epoch 17/20\n",
      "100/100 [==============================] - 58s 576ms/step - loss: 0.2288 - acc: 0.9110 - val_loss: 0.6262 - val_acc: 0.7390\n",
      "Epoch 18/20\n",
      "100/100 [==============================] - 64s 640ms/step - loss: 0.2088 - acc: 0.9185 - val_loss: 0.5930 - val_acc: 0.7560\n",
      "Epoch 19/20\n",
      "100/100 [==============================] - 61s 614ms/step - loss: 0.1823 - acc: 0.9295 - val_loss: 0.6102 - val_acc: 0.7440\n",
      "Epoch 20/20\n",
      "100/100 [==============================] - 65s 649ms/step - loss: 0.1654 - acc: 0.9425 - val_loss: 0.8805 - val_acc: 0.6960\n"
     ]
    }
   ],
   "source": [
    "history = model.fit_generator(\n",
    "      train_generator,\n",
    "      steps_per_epoch=100,\n",
    "      epochs=20,\n",
    "      validation_data=validation_generator,\n",
    "      validation_steps=50)"
   ]
  },
  {
   "cell_type": "code",
   "execution_count": 11,
   "id": "e76ed9a1",
   "metadata": {},
   "outputs": [
    {
     "data": {
      "image/png": "[encoded data removed]",
      "text/plain": [
       "<Figure size 576x360 with 1 Axes>"
      ]
     },
     "metadata": {
      "needs_background": "light"
     },
     "output_type": "display_data"
    }
   ],
   "source": [
    "pd.DataFrame(history.history).plot(figsize=(8, 5))\n",
    "plt.grid(True)\n",
    "plt.gca().set_ylim(0, 1)\n",
    "plt.show()"
   ]
  },
  {
   "cell_type": "code",
   "execution_count": 12,
   "id": "197f5e55",
   "metadata": {},
   "outputs": [],
   "source": [
    "model.save(\"model.h5\")"
   ]
  },
  {
   "cell_type": "code",
   "execution_count": 13,
   "id": "f31e43b7",
   "metadata": {},
   "outputs": [],
   "source": [
    "from tensorflow.keras import backend as K \n",
    "\n",
    "K.clear_session()\n",
    "del model"
   ]
  },
  {
   "cell_type": "code",
   "execution_count": 14,
   "id": "36af60a0",
   "metadata": {},
   "outputs": [
    {
     "name": "stdout",
     "output_type": "stream",
     "text": [
      "Found 2000 images belonging to 2 classes.\n",
      "Found 1000 images belonging to 2 classes.\n"
     ]
    }
   ],
   "source": [
    "train_datagen = ImageDataGenerator(\n",
    "    rescale=1./255,\n",
    "    rotation_range=40,\n",
    "    width_shift_range=0.2,\n",
    "    height_shift_range=0.2,\n",
    "    shear_range=0.2,\n",
    "    zoom_range=0.2,\n",
    "    horizontal_flip=True,)\n",
    "\n",
    "test_datagen = ImageDataGenerator(rescale=1./255)\n",
    "\n",
    "train_generator = train_datagen.flow_from_directory(\n",
    "        train_dir,\n",
    "        target_size=(150, 150),\n",
    "        batch_size=32,\n",
    "        class_mode='binary')\n",
    "\n",
    "validation_generator = test_datagen.flow_from_directory(\n",
    "        validation_dir,\n",
    "        target_size=(150, 150),\n",
    "        batch_size=32,\n",
    "        class_mode='binary')"
   ]
  },
  {
   "cell_type": "code",
   "execution_count": 15,
   "id": "374d35a7",
   "metadata": {},
   "outputs": [],
   "source": [
    "model = models.Sequential()\n",
    "model.add(layers.Conv2D(32, (3, 3), activation='relu',\n",
    "                        input_shape=(150, 150, 3)))\n",
    "model.add(layers.MaxPooling2D((2, 2)))\n",
    "model.add(layers.Conv2D(64, (3, 3), activation='relu'))\n",
    "model.add(layers.MaxPooling2D((2, 2)))\n",
    "model.add(layers.Conv2D(128, (3, 3), activation='relu'))\n",
    "model.add(layers.MaxPooling2D((2, 2)))\n",
    "model.add(layers.Conv2D(128, (3, 3), activation='relu'))\n",
    "model.add(layers.MaxPooling2D((2, 2)))\n",
    "model.add(layers.Flatten())\n",
    "model.add(layers.Dropout(0.5))\n",
    "model.add(layers.Dense(512, activation='relu'))\n",
    "model.add(layers.Dense(1, activation='sigmoid'))\n",
    "\n",
    "model.compile(loss='binary_crossentropy',\n",
    "              optimizer=optimizers.RMSprop(lr=1e-4),\n",
    "              metrics=['acc'])"
   ]
  },
  {
   "cell_type": "code",
   "execution_count": 16,
   "id": "051daa43",
   "metadata": {},
   "outputs": [
    {
     "name": "stdout",
     "output_type": "stream",
     "text": [
      "Epoch 1/100\n",
      "63/62 [==============================] - ETA: 0s - loss: 0.6948 - acc: 0.5080WARNING:tensorflow:Your input ran out of data; interrupting training. Make sure that your dataset or generator can generate at least `steps_per_epoch * epochs` batches (in this case, 50 batches). You may need to use the repeat() function when building your dataset.\n",
      "63/62 [==============================] - 70s 1s/step - loss: 0.6948 - acc: 0.5080 - val_loss: 0.6993 - val_acc: 0.5000\n",
      "Epoch 2/100\n",
      "63/62 [==============================] - 70s 1s/step - loss: 0.6905 - acc: 0.5255\n",
      "Epoch 3/100\n",
      "63/62 [==============================] - 61s 973ms/step - loss: 0.6750 - acc: 0.5670\n",
      "Epoch 4/100\n",
      "63/62 [==============================] - 62s 977ms/step - loss: 0.6707 - acc: 0.5765\n",
      "Epoch 5/100\n",
      "63/62 [==============================] - 64s 1s/step - loss: 0.6656 - acc: 0.5900\n",
      "Epoch 6/100\n",
      "63/62 [==============================] - 60s 952ms/step - loss: 0.6537 - acc: 0.5990\n",
      "Epoch 7/100\n",
      "63/62 [==============================] - 55s 879ms/step - loss: 0.6385 - acc: 0.6285\n",
      "Epoch 8/100\n",
      "63/62 [==============================] - 55s 876ms/step - loss: 0.6293 - acc: 0.6400\n",
      "Epoch 9/100\n",
      "63/62 [==============================] - 56s 882ms/step - loss: 0.6214 - acc: 0.6535\n",
      "Epoch 10/100\n",
      "63/62 [==============================] - 56s 893ms/step - loss: 0.6190 - acc: 0.6410\n",
      "Epoch 11/100\n",
      "63/62 [==============================] - 56s 890ms/step - loss: 0.6056 - acc: 0.6705\n",
      "Epoch 12/100\n",
      "63/62 [==============================] - 55s 876ms/step - loss: 0.5976 - acc: 0.6760\n",
      "Epoch 13/100\n",
      "63/62 [==============================] - 55s 876ms/step - loss: 0.5891 - acc: 0.6845\n",
      "Epoch 14/100\n",
      "63/62 [==============================] - 56s 883ms/step - loss: 0.5898 - acc: 0.6765\n",
      "Epoch 15/100\n",
      "63/62 [==============================] - 55s 868ms/step - loss: 0.5920 - acc: 0.6820\n",
      "Epoch 16/100\n",
      "63/62 [==============================] - 55s 872ms/step - loss: 0.5786 - acc: 0.6950\n",
      "Epoch 17/100\n",
      "63/62 [==============================] - 55s 870ms/step - loss: 0.5874 - acc: 0.6900\n",
      "Epoch 18/100\n",
      "63/62 [==============================] - 55s 880ms/step - loss: 0.5823 - acc: 0.6955\n",
      "Epoch 19/100\n",
      "63/62 [==============================] - 55s 874ms/step - loss: 0.5818 - acc: 0.6955\n",
      "Epoch 20/100\n",
      "63/62 [==============================] - 55s 876ms/step - loss: 0.5673 - acc: 0.7025\n",
      "Epoch 21/100\n",
      "63/62 [==============================] - 56s 886ms/step - loss: 0.5764 - acc: 0.7000\n",
      "Epoch 22/100\n",
      "63/62 [==============================] - 55s 872ms/step - loss: 0.5697 - acc: 0.7090\n",
      "Epoch 23/100\n",
      "63/62 [==============================] - 55s 872ms/step - loss: 0.5534 - acc: 0.7140\n",
      "Epoch 24/100\n",
      "63/62 [==============================] - 55s 873ms/step - loss: 0.5642 - acc: 0.6970\n",
      "Epoch 25/100\n",
      "63/62 [==============================] - 56s 889ms/step - loss: 0.5508 - acc: 0.7165\n",
      "Epoch 26/100\n",
      "63/62 [==============================] - 56s 885ms/step - loss: 0.5458 - acc: 0.7140\n",
      "Epoch 27/100\n",
      "63/62 [==============================] - 56s 885ms/step - loss: 0.5542 - acc: 0.7130\n",
      "Epoch 28/100\n",
      "63/62 [==============================] - 56s 882ms/step - loss: 0.5444 - acc: 0.7110\n",
      "Epoch 29/100\n",
      "63/62 [==============================] - 56s 882ms/step - loss: 0.5535 - acc: 0.7075\n",
      "Epoch 30/100\n",
      "63/62 [==============================] - 56s 883ms/step - loss: 0.5382 - acc: 0.7295\n",
      "Epoch 31/100\n",
      "63/62 [==============================] - 55s 873ms/step - loss: 0.5479 - acc: 0.7125\n",
      "Epoch 32/100\n",
      "63/62 [==============================] - 55s 879ms/step - loss: 0.5290 - acc: 0.7245\n",
      "Epoch 33/100\n",
      "63/62 [==============================] - 56s 887ms/step - loss: 0.5338 - acc: 0.7275\n",
      "Epoch 34/100\n",
      "63/62 [==============================] - 57s 907ms/step - loss: 0.5303 - acc: 0.7170\n",
      "Epoch 35/100\n",
      "63/62 [==============================] - 56s 881ms/step - loss: 0.5362 - acc: 0.7445\n",
      "Epoch 36/100\n",
      "63/62 [==============================] - 56s 891ms/step - loss: 0.5169 - acc: 0.7380\n",
      "Epoch 37/100\n",
      "63/62 [==============================] - 56s 884ms/step - loss: 0.5220 - acc: 0.7370\n",
      "Epoch 38/100\n",
      "63/62 [==============================] - 54s 861ms/step - loss: 0.5149 - acc: 0.7485\n",
      "Epoch 39/100\n",
      "63/62 [==============================] - 55s 868ms/step - loss: 0.5107 - acc: 0.7425\n",
      "Epoch 40/100\n",
      "63/62 [==============================] - 55s 869ms/step - loss: 0.5080 - acc: 0.7465\n",
      "Epoch 41/100\n",
      "63/62 [==============================] - 55s 877ms/step - loss: 0.5044 - acc: 0.7510\n",
      "Epoch 42/100\n",
      "63/62 [==============================] - 54s 865ms/step - loss: 0.5036 - acc: 0.7610\n",
      "Epoch 43/100\n",
      "63/62 [==============================] - 55s 866ms/step - loss: 0.5131 - acc: 0.7460\n",
      "Epoch 44/100\n",
      "63/62 [==============================] - 55s 867ms/step - loss: 0.4992 - acc: 0.7560\n",
      "Epoch 45/100\n",
      "63/62 [==============================] - 54s 864ms/step - loss: 0.4861 - acc: 0.7665\n",
      "Epoch 46/100\n",
      "63/62 [==============================] - 55s 878ms/step - loss: 0.4945 - acc: 0.7585\n",
      "Epoch 47/100\n",
      "63/62 [==============================] - 55s 878ms/step - loss: 0.5057 - acc: 0.7480\n",
      "Epoch 48/100\n",
      "63/62 [==============================] - 56s 886ms/step - loss: 0.4965 - acc: 0.7565\n",
      "Epoch 49/100\n",
      "63/62 [==============================] - 55s 871ms/step - loss: 0.4918 - acc: 0.7630\n",
      "Epoch 50/100\n",
      "63/62 [==============================] - 55s 872ms/step - loss: 0.4990 - acc: 0.7625\n",
      "Epoch 51/100\n",
      "63/62 [==============================] - 55s 878ms/step - loss: 0.4767 - acc: 0.7690\n",
      "Epoch 52/100\n",
      "63/62 [==============================] - 55s 874ms/step - loss: 0.4955 - acc: 0.7570\n",
      "Epoch 53/100\n",
      "63/62 [==============================] - 57s 903ms/step - loss: 0.4842 - acc: 0.7690\n",
      "Epoch 54/100\n",
      "63/62 [==============================] - 56s 895ms/step - loss: 0.4855 - acc: 0.7725\n",
      "Epoch 55/100\n",
      "63/62 [==============================] - 55s 870ms/step - loss: 0.4828 - acc: 0.7610\n",
      "Epoch 56/100\n",
      "63/62 [==============================] - 54s 859ms/step - loss: 0.4703 - acc: 0.7735\n",
      "Epoch 57/100\n",
      "63/62 [==============================] - 55s 875ms/step - loss: 0.4830 - acc: 0.7695\n",
      "Epoch 58/100\n",
      "63/62 [==============================] - 61s 961ms/step - loss: 0.4791 - acc: 0.7620\n",
      "Epoch 59/100\n",
      "63/62 [==============================] - 66s 1s/step - loss: 0.4704 - acc: 0.7695\n",
      "Epoch 60/100\n",
      "63/62 [==============================] - 60s 953ms/step - loss: 0.4829 - acc: 0.7615\n",
      "Epoch 61/100\n",
      "63/62 [==============================] - 55s 878ms/step - loss: 0.4623 - acc: 0.7880\n",
      "Epoch 62/100\n",
      "63/62 [==============================] - 54s 864ms/step - loss: 0.4703 - acc: 0.7790\n",
      "Epoch 63/100\n",
      "63/62 [==============================] - 54s 862ms/step - loss: 0.4618 - acc: 0.7685\n",
      "Epoch 64/100\n",
      "63/62 [==============================] - 54s 861ms/step - loss: 0.4793 - acc: 0.7705\n",
      "Epoch 65/100\n",
      "63/62 [==============================] - 55s 871ms/step - loss: 0.4695 - acc: 0.7725\n",
      "Epoch 66/100\n",
      "63/62 [==============================] - 54s 864ms/step - loss: 0.4777 - acc: 0.7645\n",
      "Epoch 67/100\n",
      "63/62 [==============================] - 54s 864ms/step - loss: 0.4649 - acc: 0.7785\n",
      "Epoch 68/100\n",
      "63/62 [==============================] - 55s 876ms/step - loss: 0.4488 - acc: 0.7915\n",
      "Epoch 69/100\n",
      "63/62 [==============================] - 55s 873ms/step - loss: 0.4670 - acc: 0.7740\n",
      "Epoch 70/100\n",
      "63/62 [==============================] - 55s 867ms/step - loss: 0.4601 - acc: 0.7800\n",
      "Epoch 71/100\n",
      "63/62 [==============================] - 55s 869ms/step - loss: 0.4493 - acc: 0.7825\n",
      "Epoch 72/100\n",
      "63/62 [==============================] - 55s 872ms/step - loss: 0.4441 - acc: 0.7855\n",
      "Epoch 73/100\n",
      "63/62 [==============================] - 57s 905ms/step - loss: 0.4538 - acc: 0.7865\n",
      "Epoch 74/100\n",
      "63/62 [==============================] - 57s 900ms/step - loss: 0.4456 - acc: 0.7965\n",
      "Epoch 75/100\n",
      "63/62 [==============================] - 56s 893ms/step - loss: 0.4460 - acc: 0.7870\n",
      "Epoch 76/100\n",
      "63/62 [==============================] - 54s 863ms/step - loss: 0.4456 - acc: 0.7830\n",
      "Epoch 77/100\n",
      "63/62 [==============================] - 59s 932ms/step - loss: 0.4376 - acc: 0.7890\n",
      "Epoch 78/100\n",
      "63/62 [==============================] - 58s 913ms/step - loss: 0.4414 - acc: 0.7905\n",
      "Epoch 79/100\n",
      "63/62 [==============================] - 54s 860ms/step - loss: 0.4495 - acc: 0.7835\n",
      "Epoch 80/100\n",
      "63/62 [==============================] - 54s 861ms/step - loss: 0.4465 - acc: 0.7880\n",
      "Epoch 81/100\n",
      "63/62 [==============================] - 55s 879ms/step - loss: 0.4413 - acc: 0.7930\n",
      "Epoch 82/100\n",
      "63/62 [==============================] - 55s 871ms/step - loss: 0.4362 - acc: 0.7935\n",
      "Epoch 83/100\n",
      "63/62 [==============================] - 55s 869ms/step - loss: 0.4322 - acc: 0.7975\n",
      "Epoch 84/100\n",
      "63/62 [==============================] - 55s 873ms/step - loss: 0.4365 - acc: 0.7985\n",
      "Epoch 85/100\n",
      "63/62 [==============================] - 55s 869ms/step - loss: 0.4396 - acc: 0.7950\n",
      "Epoch 86/100\n",
      "63/62 [==============================] - 59s 941ms/step - loss: 0.4207 - acc: 0.8065\n",
      "Epoch 87/100\n",
      "63/62 [==============================] - 61s 970ms/step - loss: 0.4283 - acc: 0.7920\n",
      "Epoch 88/100\n",
      "63/62 [==============================] - 56s 887ms/step - loss: 0.4291 - acc: 0.7945\n",
      "Epoch 89/100\n",
      "63/62 [==============================] - 55s 870ms/step - loss: 0.4237 - acc: 0.8020\n",
      "Epoch 90/100\n",
      "63/62 [==============================] - 55s 867ms/step - loss: 0.4261 - acc: 0.8055\n",
      "Epoch 91/100\n",
      "63/62 [==============================] - 55s 869ms/step - loss: 0.4132 - acc: 0.8095\n",
      "Epoch 92/100\n",
      "63/62 [==============================] - 55s 870ms/step - loss: 0.4243 - acc: 0.8070\n",
      "Epoch 93/100\n",
      "63/62 [==============================] - 55s 873ms/step - loss: 0.4379 - acc: 0.8000\n",
      "Epoch 94/100\n",
      "63/62 [==============================] - 55s 868ms/step - loss: 0.4282 - acc: 0.7970\n",
      "Epoch 95/100\n",
      "63/62 [==============================] - 55s 867ms/step - loss: 0.4156 - acc: 0.8045\n",
      "Epoch 96/100\n",
      "63/62 [==============================] - 54s 865ms/step - loss: 0.4267 - acc: 0.7985\n",
      "Epoch 97/100\n",
      "63/62 [==============================] - 55s 870ms/step - loss: 0.4165 - acc: 0.8085\n",
      "Epoch 98/100\n",
      "63/62 [==============================] - 54s 862ms/step - loss: 0.4134 - acc: 0.8025\n",
      "Epoch 99/100\n",
      "63/62 [==============================] - 55s 866ms/step - loss: 0.4116 - acc: 0.8050\n",
      "Epoch 100/100\n",
      "63/62 [==============================] - 55s 874ms/step - loss: 0.3977 - acc: 0.8220\n"
     ]
    }
   ],
   "source": [
    "history = model.fit(\n",
    "      train_generator,\n",
    "      steps_per_epoch=62.5,\n",
    "      epochs=100,\n",
    "      validation_data=validation_generator,\n",
    "      validation_steps=50)"
   ]
  },
  {
   "cell_type": "code",
   "execution_count": 17,
   "id": "3e16fd98",
   "metadata": {},
   "outputs": [],
   "source": [
    "model.save(\"project_cnn.h5\")"
   ]
  },
  {
   "cell_type": "code",
   "execution_count": 18,
   "id": "236164d1",
   "metadata": {},
   "outputs": [
    {
     "ename": "ValueError",
     "evalue": "All arrays must be of the same length",
     "output_type": "error",
     "traceback": [
      "\u001b[1;31m---------------------------------------------------------------------------\u001b[0m",
      "\u001b[1;31mValueError\u001b[0m                                Traceback (most recent call last)",
      "\u001b[1;32m<ipython-input-18-47d552496333>\u001b[0m in \u001b[0;36m<module>\u001b[1;34m\u001b[0m\n\u001b[1;32m----> 1\u001b[1;33m \u001b[0mpd\u001b[0m\u001b[1;33m.\u001b[0m\u001b[0mDataFrame\u001b[0m\u001b[1;33m(\u001b[0m\u001b[0mhistory\u001b[0m\u001b[1;33m.\u001b[0m\u001b[0mhistory\u001b[0m\u001b[1;33m)\u001b[0m\u001b[1;33m.\u001b[0m\u001b[0mplot\u001b[0m\u001b[1;33m(\u001b[0m\u001b[0mfigsize\u001b[0m\u001b[1;33m=\u001b[0m\u001b[1;33m(\u001b[0m\u001b[1;36m8\u001b[0m\u001b[1;33m,\u001b[0m \u001b[1;36m5\u001b[0m\u001b[1;33m)\u001b[0m\u001b[1;33m)\u001b[0m\u001b[1;33m\u001b[0m\u001b[1;33m\u001b[0m\u001b[0m\n\u001b[0m\u001b[0;32m      2\u001b[0m \u001b[0mplt\u001b[0m\u001b[1;33m.\u001b[0m\u001b[0mgrid\u001b[0m\u001b[1;33m(\u001b[0m\u001b[1;32mTrue\u001b[0m\u001b[1;33m)\u001b[0m\u001b[1;33m\u001b[0m\u001b[1;33m\u001b[0m\u001b[0m\n\u001b[0;32m      3\u001b[0m \u001b[0mplt\u001b[0m\u001b[1;33m.\u001b[0m\u001b[0mgca\u001b[0m\u001b[1;33m(\u001b[0m\u001b[1;33m)\u001b[0m\u001b[1;33m.\u001b[0m\u001b[0mset_ylim\u001b[0m\u001b[1;33m(\u001b[0m\u001b[1;36m0\u001b[0m\u001b[1;33m,\u001b[0m \u001b[1;36m1\u001b[0m\u001b[1;33m)\u001b[0m\u001b[1;33m\u001b[0m\u001b[1;33m\u001b[0m\u001b[0m\n\u001b[0;32m      4\u001b[0m \u001b[0mplt\u001b[0m\u001b[1;33m.\u001b[0m\u001b[0mshow\u001b[0m\u001b[1;33m(\u001b[0m\u001b[1;33m)\u001b[0m\u001b[1;33m\u001b[0m\u001b[1;33m\u001b[0m\u001b[0m\n",
      "\u001b[1;32m~\\anaconda3\\lib\\site-packages\\pandas\\core\\frame.py\u001b[0m in \u001b[0;36m__init__\u001b[1;34m(self, data, index, columns, dtype, copy)\u001b[0m\n\u001b[0;32m    612\u001b[0m         \u001b[1;32melif\u001b[0m \u001b[0misinstance\u001b[0m\u001b[1;33m(\u001b[0m\u001b[0mdata\u001b[0m\u001b[1;33m,\u001b[0m \u001b[0mdict\u001b[0m\u001b[1;33m)\u001b[0m\u001b[1;33m:\u001b[0m\u001b[1;33m\u001b[0m\u001b[1;33m\u001b[0m\u001b[0m\n\u001b[0;32m    613\u001b[0m             \u001b[1;31m# GH#38939 de facto copy defaults to False only in non-dict cases\u001b[0m\u001b[1;33m\u001b[0m\u001b[1;33m\u001b[0m\u001b[1;33m\u001b[0m\u001b[0m\n\u001b[1;32m--> 614\u001b[1;33m             \u001b[0mmgr\u001b[0m \u001b[1;33m=\u001b[0m \u001b[0mdict_to_mgr\u001b[0m\u001b[1;33m(\u001b[0m\u001b[0mdata\u001b[0m\u001b[1;33m,\u001b[0m \u001b[0mindex\u001b[0m\u001b[1;33m,\u001b[0m \u001b[0mcolumns\u001b[0m\u001b[1;33m,\u001b[0m \u001b[0mdtype\u001b[0m\u001b[1;33m=\u001b[0m\u001b[0mdtype\u001b[0m\u001b[1;33m,\u001b[0m \u001b[0mcopy\u001b[0m\u001b[1;33m=\u001b[0m\u001b[0mcopy\u001b[0m\u001b[1;33m,\u001b[0m \u001b[0mtyp\u001b[0m\u001b[1;33m=\u001b[0m\u001b[0mmanager\u001b[0m\u001b[1;33m)\u001b[0m\u001b[1;33m\u001b[0m\u001b[1;33m\u001b[0m\u001b[0m\n\u001b[0m\u001b[0;32m    615\u001b[0m         \u001b[1;32melif\u001b[0m \u001b[0misinstance\u001b[0m\u001b[1;33m(\u001b[0m\u001b[0mdata\u001b[0m\u001b[1;33m,\u001b[0m \u001b[0mma\u001b[0m\u001b[1;33m.\u001b[0m\u001b[0mMaskedArray\u001b[0m\u001b[1;33m)\u001b[0m\u001b[1;33m:\u001b[0m\u001b[1;33m\u001b[0m\u001b[1;33m\u001b[0m\u001b[0m\n\u001b[0;32m    616\u001b[0m             \u001b[1;32mimport\u001b[0m \u001b[0mnumpy\u001b[0m\u001b[1;33m.\u001b[0m\u001b[0mma\u001b[0m\u001b[1;33m.\u001b[0m\u001b[0mmrecords\u001b[0m \u001b[1;32mas\u001b[0m \u001b[0mmrecords\u001b[0m\u001b[1;33m\u001b[0m\u001b[1;33m\u001b[0m\u001b[0m\n",
      "\u001b[1;32m~\\anaconda3\\lib\\site-packages\\pandas\\core\\internals\\construction.py\u001b[0m in \u001b[0;36mdict_to_mgr\u001b[1;34m(data, index, columns, dtype, typ, copy)\u001b[0m\n\u001b[0;32m    460\u001b[0m         \u001b[1;31m# TODO: can we get rid of the dt64tz special case above?\u001b[0m\u001b[1;33m\u001b[0m\u001b[1;33m\u001b[0m\u001b[1;33m\u001b[0m\u001b[0m\n\u001b[0;32m    461\u001b[0m \u001b[1;33m\u001b[0m\u001b[0m\n\u001b[1;32m--> 462\u001b[1;33m     return arrays_to_mgr(\n\u001b[0m\u001b[0;32m    463\u001b[0m         \u001b[0marrays\u001b[0m\u001b[1;33m,\u001b[0m \u001b[0mdata_names\u001b[0m\u001b[1;33m,\u001b[0m \u001b[0mindex\u001b[0m\u001b[1;33m,\u001b[0m \u001b[0mcolumns\u001b[0m\u001b[1;33m,\u001b[0m \u001b[0mdtype\u001b[0m\u001b[1;33m=\u001b[0m\u001b[0mdtype\u001b[0m\u001b[1;33m,\u001b[0m \u001b[0mtyp\u001b[0m\u001b[1;33m=\u001b[0m\u001b[0mtyp\u001b[0m\u001b[1;33m,\u001b[0m \u001b[0mconsolidate\u001b[0m\u001b[1;33m=\u001b[0m\u001b[0mcopy\u001b[0m\u001b[1;33m\u001b[0m\u001b[1;33m\u001b[0m\u001b[0m\n\u001b[0;32m    464\u001b[0m     )\n",
      "\u001b[1;32m~\\anaconda3\\lib\\site-packages\\pandas\\core\\internals\\construction.py\u001b[0m in \u001b[0;36marrays_to_mgr\u001b[1;34m(arrays, arr_names, index, columns, dtype, verify_integrity, typ, consolidate)\u001b[0m\n\u001b[0;32m    115\u001b[0m         \u001b[1;31m# figure out the index, if necessary\u001b[0m\u001b[1;33m\u001b[0m\u001b[1;33m\u001b[0m\u001b[1;33m\u001b[0m\u001b[0m\n\u001b[0;32m    116\u001b[0m         \u001b[1;32mif\u001b[0m \u001b[0mindex\u001b[0m \u001b[1;32mis\u001b[0m \u001b[1;32mNone\u001b[0m\u001b[1;33m:\u001b[0m\u001b[1;33m\u001b[0m\u001b[1;33m\u001b[0m\u001b[0m\n\u001b[1;32m--> 117\u001b[1;33m             \u001b[0mindex\u001b[0m \u001b[1;33m=\u001b[0m \u001b[0m_extract_index\u001b[0m\u001b[1;33m(\u001b[0m\u001b[0marrays\u001b[0m\u001b[1;33m)\u001b[0m\u001b[1;33m\u001b[0m\u001b[1;33m\u001b[0m\u001b[0m\n\u001b[0m\u001b[0;32m    118\u001b[0m         \u001b[1;32melse\u001b[0m\u001b[1;33m:\u001b[0m\u001b[1;33m\u001b[0m\u001b[1;33m\u001b[0m\u001b[0m\n\u001b[0;32m    119\u001b[0m             \u001b[0mindex\u001b[0m \u001b[1;33m=\u001b[0m \u001b[0mensure_index\u001b[0m\u001b[1;33m(\u001b[0m\u001b[0mindex\u001b[0m\u001b[1;33m)\u001b[0m\u001b[1;33m\u001b[0m\u001b[1;33m\u001b[0m\u001b[0m\n",
      "\u001b[1;32m~\\anaconda3\\lib\\site-packages\\pandas\\core\\internals\\construction.py\u001b[0m in \u001b[0;36m_extract_index\u001b[1;34m(data)\u001b[0m\n\u001b[0;32m    621\u001b[0m             \u001b[0mlengths\u001b[0m \u001b[1;33m=\u001b[0m \u001b[0mlist\u001b[0m\u001b[1;33m(\u001b[0m\u001b[0mset\u001b[0m\u001b[1;33m(\u001b[0m\u001b[0mraw_lengths\u001b[0m\u001b[1;33m)\u001b[0m\u001b[1;33m)\u001b[0m\u001b[1;33m\u001b[0m\u001b[1;33m\u001b[0m\u001b[0m\n\u001b[0;32m    622\u001b[0m             \u001b[1;32mif\u001b[0m \u001b[0mlen\u001b[0m\u001b[1;33m(\u001b[0m\u001b[0mlengths\u001b[0m\u001b[1;33m)\u001b[0m \u001b[1;33m>\u001b[0m \u001b[1;36m1\u001b[0m\u001b[1;33m:\u001b[0m\u001b[1;33m\u001b[0m\u001b[1;33m\u001b[0m\u001b[0m\n\u001b[1;32m--> 623\u001b[1;33m                 \u001b[1;32mraise\u001b[0m \u001b[0mValueError\u001b[0m\u001b[1;33m(\u001b[0m\u001b[1;34m\"All arrays must be of the same length\"\u001b[0m\u001b[1;33m)\u001b[0m\u001b[1;33m\u001b[0m\u001b[1;33m\u001b[0m\u001b[0m\n\u001b[0m\u001b[0;32m    624\u001b[0m \u001b[1;33m\u001b[0m\u001b[0m\n\u001b[0;32m    625\u001b[0m             \u001b[1;32mif\u001b[0m \u001b[0mhave_dicts\u001b[0m\u001b[1;33m:\u001b[0m\u001b[1;33m\u001b[0m\u001b[1;33m\u001b[0m\u001b[0m\n",
      "\u001b[1;31mValueError\u001b[0m: All arrays must be of the same length"
     ]
    }
   ],
   "source": [
    "pd.DataFrame(history.history).plot(figsize=(8, 5))\n",
    "plt.grid(True)\n",
    "plt.gca().set_ylim(0, 1)\n",
    "plt.show()"
   ]
  },
  {
   "cell_type": "code",
   "execution_count": null,
   "id": "d2284afc",
   "metadata": {},
   "outputs": [],
   "source": [
    "keras.backend.clear_session\n",
    "del model"
   ]
  },
  {
   "cell_type": "code",
   "execution_count": null,
   "id": "eda021f0",
   "metadata": {},
   "outputs": [],
   "source": []
  },
  {
   "cell_type": "code",
   "execution_count": null,
   "id": "0fdbcb78",
   "metadata": {},
   "outputs": [],
   "source": []
  },
  {
   "cell_type": "code",
   "execution_count": null,
   "id": "499e9214",
   "metadata": {},
   "outputs": [],
   "source": [
    "from tensorflow.keras.preprocessing.image import ImageDataGenerator\n",
    "\n",
    "train_datagen = ImageDataGenerator(\n",
    "      rescale=1./255,\n",
    "      rotation_range=40,\n",
    "      width_shift_range=0.2,\n",
    "      height_shift_range=0.2,\n",
    "      shear_range=0.2,\n",
    "      zoom_range=0.2,\n",
    "      horizontal_flip=True)\n",
    "\n",
    "test_datagen = ImageDataGenerator(rescale=1./255)\n",
    "\n",
    "train_generator = train_datagen.flow_from_directory(\n",
    "        train_dir,\n",
    "        target_size=(150, 150),\n",
    "        batch_size=20,\n",
    "        class_mode='binary')\n",
    "\n",
    "validation_generator = test_datagen.flow_from_directory(\n",
    "        validation_dir,\n",
    "        target_size=(150, 150),\n",
    "        batch_size=20,\n",
    "        class_mode='binary')"
   ]
  },
  {
   "cell_type": "code",
   "execution_count": null,
   "id": "603e282f",
   "metadata": {},
   "outputs": [],
   "source": [
    "from tensorflow.keras.applications import VGG16\n",
    "\n",
    "conv_base = VGG16(weights='imagenet',\n",
    "                  include_top=False,\n",
    "                  input_shape=(150, 150, 3))"
   ]
  },
  {
   "cell_type": "code",
   "execution_count": null,
   "id": "1711186a",
   "metadata": {},
   "outputs": [],
   "source": [
    "conv_base.summary()"
   ]
  },
  {
   "cell_type": "code",
   "execution_count": null,
   "id": "72783777",
   "metadata": {},
   "outputs": [],
   "source": [
    "from tensorflow.keras import models\n",
    "from tensorflow.keras import layers\n",
    "\n",
    "model = models.Sequential()\n",
    "model.add(conv_base)\n",
    "model.add(layers.Flatten())\n",
    "model.add(layers.Dense(256, activation='relu'))\n",
    "model.add(layers.Dense(1, activation='sigmoid'))"
   ]
  },
  {
   "cell_type": "code",
   "execution_count": null,
   "id": "672636fc",
   "metadata": {},
   "outputs": [],
   "source": [
    "model.summary()"
   ]
  },
  {
   "cell_type": "code",
   "execution_count": null,
   "id": "384f0c5b",
   "metadata": {},
   "outputs": [],
   "source": []
  },
  {
   "cell_type": "code",
   "execution_count": null,
   "id": "304efee4",
   "metadata": {},
   "outputs": [],
   "source": [
    "from tensorflow.keras import optimizers\n",
    "\n",
    "model.compile(loss='binary_crossentropy',\n",
    "              optimizer=optimizers.RMSprop(lr=2e-5),\n",
    "              metrics=['acc'])"
   ]
  },
  {
   "cell_type": "code",
   "execution_count": null,
   "id": "b4310e43",
   "metadata": {},
   "outputs": [],
   "source": [
    "checkpoint_cb = keras.callbacks.ModelCheckpoint(\"CNN_Project_Model-{epoch:02d}.h5\")"
   ]
  },
  {
   "cell_type": "code",
   "execution_count": null,
   "id": "ac76a084",
   "metadata": {},
   "outputs": [],
   "source": [
    "history = model.fit_generator(\n",
    "      train_generator,\n",
    "      steps_per_epoch=100,\n",
    "      epochs=30,\n",
    "      validation_data=validation_generator,\n",
    "      validation_steps=50,\n",
    "      callbacks=[checkpoint_cb])"
   ]
  },
  {
   "cell_type": "code",
   "execution_count": null,
   "id": "ffc9194e",
   "metadata": {},
   "outputs": [],
   "source": [
    "pd.DataFrame(history.history).plot(figsize=(8, 5))\n",
    "plt.grid(True)\n",
    "plt.gca().set_ylim(0, 1)\n",
    "plt.show()"
   ]
  },
  {
   "cell_type": "code",
   "execution_count": null,
   "id": "ea7f3771",
   "metadata": {},
   "outputs": [],
   "source": [
    "hist_df = pd.DataFrame(history.history) "
   ]
  },
  {
   "cell_type": "code",
   "execution_count": null,
   "id": "f1e09f92",
   "metadata": {},
   "outputs": [],
   "source": [
    "hist_csv_file = 'history.csv'\n",
    "with open(hist_csv_file, mode='w') as f:\n",
    "    hist_df.to_csv(f)"
   ]
  },
  {
   "cell_type": "code",
   "execution_count": null,
   "id": "ac57feed",
   "metadata": {},
   "outputs": [],
   "source": [
    "test_generator = test_datagen.flow_from_directory(\n",
    "        test_dir,\n",
    "        target_size=(150, 150),\n",
    "        batch_size=20,\n",
    "        class_mode='binary')"
   ]
  },
  {
   "cell_type": "code",
   "execution_count": null,
   "id": "27fce9cb",
   "metadata": {},
   "outputs": [],
   "source": [
    "model.evaluate(test_generator, steps=50)"
   ]
  }
 ],
 "metadata": {
  "kernelspec": {
   "display_name": "Python 3",
   "language": "python",
   "name": "python3"
  },
  "language_info": {
   "codemirror_mode": {
    "name": "ipython",
    "version": 3
   },
   "file_extension": ".py",
   "mimetype": "text/x-python",
   "name": "python",
   "nbconvert_exporter": "python",
   "pygments_lexer": "ipython3",
   "version": "3.8.8"
  }
 },
 "nbformat": 4,
 "nbformat_minor": 5
}
